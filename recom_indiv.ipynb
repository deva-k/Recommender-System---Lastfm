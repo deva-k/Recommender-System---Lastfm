{
 "cells": [
  {
   "cell_type": "markdown",
   "metadata": {},
   "source": [
    "# Recommendation API"
   ]
  },
  {
   "cell_type": "code",
   "execution_count": 1,
   "metadata": {},
   "outputs": [
    {
     "name": "stdout",
     "output_type": "stream",
     "text": [
      " * Serving Flask app \"__main__\" (lazy loading)\n",
      " * Environment: production\n",
      "   WARNING: This is a development server. Do not use it in a production deployment.\n",
      "   Use a production WSGI server instead.\n",
      " * Debug mode: off\n"
     ]
    },
    {
     "name": "stderr",
     "output_type": "stream",
     "text": [
      " * Running on http://localhost:5000/ (Press CTRL+C to quit)\n",
      "127.0.0.1 - - [22/Mar/2020 23:35:12] \"GET /recom/top?userId=43 HTTP/1.1\" 200 -\n"
     ]
    }
   ],
   "source": [
    "## Import packages\n",
    "from flask import Flask, request, jsonify, make_response\n",
    "import pandas as pd\n",
    "\n",
    "## Initialize app\n",
    "app = Flask(__name__)\n",
    "\n",
    "#This is the data generated after running the content based recommender system function code in the group project.\n",
    "#Joined it with the artists data and got the artists name\n",
    "cbfdata = pd.read_csv('cbfdata.csv')\n",
    "\n",
    "data = cbfdata\n",
    "\n",
    "@app.route(\"/recom/top\", methods=[\"GET\"])\n",
    "def top_ratings():\n",
    "    ## read the parameters of the API call\n",
    "    \n",
    "    userId_str = request.args.get(\"userId\")\n",
    "    try:\n",
    "        userId = int(userId_str)\n",
    "    except:\n",
    "        return \"'userId' is required and should be an Integer.\"\n",
    "        sys.exit(\"'userId' is required and should be an Integer.\")\n",
    "  \n",
    "    # filter data for the given userId\n",
    "    filtered = data[data.userID == userId]\n",
    "    \n",
    "    # select artistID, name and score and transform to list\n",
    "    recom = list(filtered[[\"artistID\", \"name\", \"score\"]].T.to_dict().values())\n",
    "    \n",
    "    # Return the result to the API\n",
    "    return jsonify(recom)\n",
    "\n",
    "\n",
    "### Put endpoint online\n",
    "if __name__ == '__main__':\n",
    "    app.run(host='localhost')"
   ]
  }
 ],
 "metadata": {
  "kernelspec": {
   "display_name": "Python 3",
   "language": "python",
   "name": "python3"
  },
  "language_info": {
   "codemirror_mode": {
    "name": "ipython",
    "version": 3
   },
   "file_extension": ".py",
   "mimetype": "text/x-python",
   "name": "python",
   "nbconvert_exporter": "python",
   "pygments_lexer": "ipython3",
   "version": "3.7.4"
  }
 },
 "nbformat": 4,
 "nbformat_minor": 2
}
